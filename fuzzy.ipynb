{
 "cells": [
  {
   "cell_type": "code",
   "execution_count": 3,
   "metadata": {},
   "outputs": [
    {
     "data": {
      "text/plain": [
       "True"
      ]
     },
     "execution_count": 3,
     "metadata": {},
     "output_type": "execute_result"
    }
   ],
   "source": [
    "import numpy as np\n",
    "import cv2\n",
    "from skimage import img_as_float\n",
    "\n",
    "\n",
    "# Function to calculate intuitionistic fuzzy membership\n",
    "def intuitionistic_fuzzy_membership(image, a=0.5, b=0.3):\n",
    "    # Normalize the image\n",
    "    norm_image = img_as_float(image)\n",
    "\n",
    "    # Membership function (mu) - fuzzifying the image pixel values\n",
    "    mu = np.clip(norm_image, 0, 1)\n",
    "\n",
    "    # Non-membership function (nu) - measuring how much a pixel does not belong to a set\n",
    "    nu = 1 - mu\n",
    "\n",
    "    # Hesitation degree (pi) - how uncertain we are about the pixel belonging to a set\n",
    "    pi = 1 - mu - nu\n",
    "\n",
    "    return mu, nu, pi\n",
    "\n",
    "\n",
    "# Function to fuse two intuitionistic fuzzy sets\n",
    "def fuse_ifs(mu1, nu1, pi1, mu2, nu2, pi2, alpha=0.5):\n",
    "    # Weighted fusion of membership, non-membership, and hesitation\n",
    "    fused_mu = alpha * mu1 + (1 - alpha) * mu2\n",
    "    fused_nu = alpha * nu1 + (1 - alpha) * nu2\n",
    "    fused_pi = alpha * pi1 + (1 - alpha) * pi2\n",
    "\n",
    "    # Normalizing to ensure values lie between 0 and 1\n",
    "    fused_image = np.clip(fused_mu - fused_nu, 0, 1)\n",
    "    return fused_image\n",
    "\n",
    "\n",
    "# Medical image fusion algorithm using IFS\n",
    "def medical_image_fusion(image1, image2, alpha=0.5):\n",
    "    # Convert images to the YCbCr color space for better luminance processing\n",
    "    image1_ycbcr = cv2.cvtColor(image1, cv2.COLOR_BGR2YCrCb)\n",
    "    image2_ycbcr = cv2.cvtColor(image2, cv2.COLOR_BGR2YCrCb)\n",
    "\n",
    "    # Extract luminance channel (Y)\n",
    "    image1_Y = image1_ycbcr[:, :, 0]\n",
    "    image2_Y = image2_ycbcr[:, :, 0]\n",
    "\n",
    "    # Apply intuitionistic fuzzy membership functions\n",
    "    mu1, nu1, pi1 = intuitionistic_fuzzy_membership(image1_Y)\n",
    "    mu2, nu2, pi2 = intuitionistic_fuzzy_membership(image2_Y)\n",
    "\n",
    "    # Fuse the two images using IFS\n",
    "    fused_Y = fuse_ifs(mu1, nu1, pi1, mu2, nu2, pi2, alpha)\n",
    "\n",
    "    # Replace the luminance channel with the fused result\n",
    "    fused_image_ycbcr = image1_ycbcr.copy()\n",
    "    fused_image_ycbcr[:, :, 0] = np.uint8(fused_Y * 255)\n",
    "\n",
    "    # Convert back to RGB color space\n",
    "    fused_image = cv2.cvtColor(fused_image_ycbcr, cv2.COLOR_YCrCb2BGR)\n",
    "\n",
    "    return fused_image\n",
    "\n",
    "\n",
    "# Load two medical RGB images\n",
    "image1 = cv2.imread(\"data/fusion/052 (2).png\")  # Replace with your medical image path\n",
    "image2 = cv2.imread(\"data/fusion/052.png\")  # Replace with your medical image path\n",
    "\n",
    "# Perform fusion\n",
    "fused_image = medical_image_fusion(image1, image2, alpha=0.1)\n",
    "\n",
    "# Save the result\n",
    "cv2.imwrite(\"fused_image_fuzzy.png\", fused_image)\n",
    "\n",
    "# Display the fused image\n",
    "# cv2.imshow(\"Fused Image1\", fused_image)\n",
    "# cv2.waitKey(0)\n",
    "# cv2.destroyAllWindows()"
   ]
  },
  {
   "cell_type": "code",
   "execution_count": null,
   "metadata": {},
   "outputs": [],
   "source": []
  }
 ],
 "metadata": {
  "kernelspec": {
   "display_name": "meeg-learning",
   "language": "python",
   "name": "python3"
  },
  "language_info": {
   "codemirror_mode": {
    "name": "ipython",
    "version": 3
   },
   "file_extension": ".py",
   "mimetype": "text/x-python",
   "name": "python",
   "nbconvert_exporter": "python",
   "pygments_lexer": "ipython3",
   "version": "3.9.0"
  }
 },
 "nbformat": 4,
 "nbformat_minor": 2
}
