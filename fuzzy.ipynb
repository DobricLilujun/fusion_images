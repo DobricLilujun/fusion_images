{
 "cells": [
  {
   "cell_type": "code",
   "execution_count": 3,
   "metadata": {},
   "outputs": [
    {
     "data": {
      "text/plain": [
       "True"
      ]
     },
     "execution_count": 3,
     "metadata": {},
     "output_type": "execute_result"
    }
   ],
   "source": [
    "import numpy as np\n",
    "import cv2\n",
    "from skimage import img_as_float\n",
    "\n",
    "\n",
    "def intuitionistic_fuzzy_membership(image, a=0.5, b=0.3):\n",
    "    norm_image = img_as_float(image)\n",
    "    mu = np.clip(norm_image, 0, 1)\n",
    "    nu = 1 - mu\n",
    "    pi = 1 - mu - nu\n",
    "    return mu, nu, pi\n",
    "\n",
    "\n",
    "def fuse_ifs(mu1, nu1, pi1, mu2, nu2, pi2, alpha=0.5):\n",
    "    fused_mu = alpha * mu1 + (1 - alpha) * mu2\n",
    "    fused_nu = alpha * nu1 + (1 - alpha) * nu2\n",
    "    fused_pi = alpha * pi1 + (1 - alpha) * pi2\n",
    "\n",
    "    fused_image = np.clip(fused_mu - fused_nu, 0, 1)\n",
    "    return fused_image\n",
    "\n",
    "\n",
    "def medical_image_fusion(image1, image2, alpha=0.5):\n",
    "    image1_ycbcr = cv2.cvtColor(image1, cv2.COLOR_BGR2YCrCb)\n",
    "    image2_ycbcr = cv2.cvtColor(image2, cv2.COLOR_BGR2YCrCb)\n",
    "\n",
    "    image1_Y = image1_ycbcr[:, :, 0]\n",
    "    image2_Y = image2_ycbcr[:, :, 0]\n",
    "\n",
    "    mu1, nu1, pi1 = intuitionistic_fuzzy_membership(image1_Y)\n",
    "    mu2, nu2, pi2 = intuitionistic_fuzzy_membership(image2_Y)\n",
    "\n",
    "    fused_Y = fuse_ifs(mu1, nu1, pi1, mu2, nu2, pi2, alpha)\n",
    "\n",
    "    fused_image_ycbcr = image1_ycbcr.copy()\n",
    "    fused_image_ycbcr[:, :, 0] = np.uint8(fused_Y * 255)\n",
    "    fused_image = cv2.cvtColor(fused_image_ycbcr, cv2.COLOR_YCrCb2BGR)\n",
    "\n",
    "    return fused_image\n",
    "\n",
    "\n",
    "image1 = cv2.imread(\"data/fusion/052 (2).png\")\n",
    "image2 = cv2.imread(\"data/fusion/052.png\")\n",
    "\n",
    "fused_image = medical_image_fusion(image1, image2, alpha=0.1)\n",
    "\n",
    "cv2.imwrite(\"fused_image_fuzzy.png\", fused_image)"
   ]
  }
 ],
 "metadata": {
  "kernelspec": {
   "display_name": "meeg-learning",
   "language": "python",
   "name": "python3"
  },
  "language_info": {
   "codemirror_mode": {
    "name": "ipython",
    "version": 3
   },
   "file_extension": ".py",
   "mimetype": "text/x-python",
   "name": "python",
   "nbconvert_exporter": "python",
   "pygments_lexer": "ipython3",
   "version": "3.9.0"
  }
 },
 "nbformat": 4,
 "nbformat_minor": 2
}
