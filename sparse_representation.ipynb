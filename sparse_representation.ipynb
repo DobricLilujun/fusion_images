{
 "cells": [
  {
   "cell_type": "code",
   "execution_count": 15,
   "metadata": {},
   "outputs": [
    {
     "name": "stderr",
     "output_type": "stream",
     "text": [
      "/home/lujun/anaconda3/envs/meeg-learning/lib/python3.9/site-packages/sklearn/utils/_param_validation.py:186: RuntimeWarning: Orthogonal matching pursuit ended prematurely due to linear dependence in the dictionary. The requested precision might not have been met.\n",
      "  return func(*args, **kwargs)\n",
      "/home/lujun/anaconda3/envs/meeg-learning/lib/python3.9/site-packages/sklearn/utils/_param_validation.py:186: RuntimeWarning: Orthogonal matching pursuit ended prematurely due to linear dependence in the dictionary. The requested precision might not have been met.\n",
      "  return func(*args, **kwargs)\n"
     ]
    }
   ],
   "source": [
    "import cv2\n",
    "import numpy as np\n",
    "from sklearn.decomposition import SparseCoder\n",
    "\n",
    "\n",
    "def sparse_representation(img, dictionary):\n",
    "    img_flat = img.reshape(-1, img.shape[-1])\n",
    "    coder = SparseCoder(\n",
    "        dictionary=dictionary, transform_algorithm=\"omp\", transform_n_nonzero_coefs=1\n",
    "    )\n",
    "    sparse_code = coder.transform(img_flat)\n",
    "    return sparse_code\n",
    "\n",
    "\n",
    "def reconstruct_image(sparse_code, dictionary, shape):\n",
    "    img_flat_recon = np.dot(sparse_code, dictionary)\n",
    "    img_recon = img_flat_recon.reshape(shape)\n",
    "    return img_recon\n",
    "\n",
    "\n",
    "def fuse_images(img1, img2, dictionary):\n",
    "    sparse1 = sparse_representation(img1, dictionary)\n",
    "    sparse2 = sparse_representation(img2, dictionary)\n",
    "\n",
    "    fused_sparse = (sparse1 + sparse2) / 2\n",
    "\n",
    "    fused_image = reconstruct_image(fused_sparse, dictionary, img1.shape)\n",
    "\n",
    "    return fused_image\n",
    "\n",
    "\n",
    "def main():\n",
    "    img1 = cv2.imread(\"data/fusion/052 (2).png\") / 255.0\n",
    "    img2 = cv2.imread(\"data/fusion/052.png\") / 255.0\n",
    "\n",
    "    dictionary = np.random.rand(10, img1.shape[-1])\n",
    "\n",
    "    fused_image = fuse_images(img1, img2, dictionary)\n",
    "\n",
    "    cv2.imshow(\"Fused Image\", fused_image)\n",
    "    # cv2.waitKey(00)\n",
    "    # cv2.destroyAllWindows()\n",
    "\n",
    "    cv2.imwrite(\"fused_image_sparse_main.png\", (fused_image * 255).astype(np.uint8))\n",
    "\n",
    "\n",
    "if __name__ == \"__main__\":\n",
    "    main()"
   ]
  }
 ],
 "metadata": {
  "kernelspec": {
   "display_name": "meeg-learning",
   "language": "python",
   "name": "python3"
  },
  "language_info": {
   "codemirror_mode": {
    "name": "ipython",
    "version": 3
   },
   "file_extension": ".py",
   "mimetype": "text/x-python",
   "name": "python",
   "nbconvert_exporter": "python",
   "pygments_lexer": "ipython3",
   "version": "3.9.0"
  }
 },
 "nbformat": 4,
 "nbformat_minor": 2
}
